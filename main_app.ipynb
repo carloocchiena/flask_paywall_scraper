{
 "cells": [
  {
   "cell_type": "code",
   "execution_count": 1,
   "metadata": {
    "tags": []
   },
   "outputs": [
    {
     "output_type": "stream",
     "name": "stdout",
     "text": [
      " * Serving Flask app \"__main__\" (lazy loading)\n",
      " * Environment: production\n",
      "   WARNING: This is a development server. Do not use it in a production deployment.\n",
      "   Use a production WSGI server instead.\n",
      " * Debug mode: on\n",
      " * Running on http://127.0.0.1:5000/ (Press CTRL+C to quit)\n",
      "127.0.0.1 - - [18/May/2021 16:29:54] \"\u001b[37mPOST / HTTP/1.1\u001b[0m\" 200 -\n",
      "127.0.0.1 - - [18/May/2021 16:29:54] \"\u001b[37mGET /static/mystyle.css HTTP/1.1\u001b[0m\" 200 -\n",
      "127.0.0.1 - - [18/May/2021 16:29:54] \"\u001b[37mGET /static/favicon.ico HTTP/1.1\u001b[0m\" 200 -\n",
      "127.0.0.1 - - [18/May/2021 16:30:01] \"\u001b[37mGET / HTTP/1.1\u001b[0m\" 200 -\n",
      "127.0.0.1 - - [18/May/2021 16:30:08] \"\u001b[37mPOST / HTTP/1.1\u001b[0m\" 200 -\n",
      "127.0.0.1 - - [18/May/2021 16:30:24] \"\u001b[37mGET / HTTP/1.1\u001b[0m\" 200 -\n",
      "127.0.0.1 - - [18/May/2021 16:30:27] \"\u001b[37mPOST / HTTP/1.1\u001b[0m\" 200 -\n",
      "127.0.0.1 - - [18/May/2021 16:30:44] \"\u001b[37mGET / HTTP/1.1\u001b[0m\" 200 -\n",
      "127.0.0.1 - - [18/May/2021 16:31:47] \"\u001b[37mPOST / HTTP/1.1\u001b[0m\" 200 -\n",
      "127.0.0.1 - - [18/May/2021 16:31:54] \"\u001b[37mGET / HTTP/1.1\u001b[0m\" 200 -\n",
      "127.0.0.1 - - [18/May/2021 16:32:02] \"\u001b[37mPOST / HTTP/1.1\u001b[0m\" 200 -\n",
      "127.0.0.1 - - [18/May/2021 16:32:15] \"\u001b[37mGET / HTTP/1.1\u001b[0m\" 200 -\n",
      "127.0.0.1 - - [18/May/2021 16:32:26] \"\u001b[37mPOST / HTTP/1.1\u001b[0m\" 200 -\n",
      "127.0.0.1 - - [18/May/2021 16:36:14] \"\u001b[37mGET / HTTP/1.1\u001b[0m\" 200 -\n",
      "127.0.0.1 - - [18/May/2021 16:36:21] \"\u001b[37mPOST / HTTP/1.1\u001b[0m\" 200 -\n",
      "127.0.0.1 - - [18/May/2021 16:36:23] \"\u001b[37mGET / HTTP/1.1\u001b[0m\" 200 -\n"
     ]
    }
   ],
   "source": [
    "from flask import Flask, request, render_template\n",
    "from processing import scraper\n",
    "\n",
    "app = Flask(__name__)\n",
    "app.config[\"DEBUG\"] = True\n",
    "\n",
    "#render main page\n",
    "@app.route('/', methods = [\"GET\", \"POST\"])\n",
    "def input_page():\n",
    "    errors = \"\"\n",
    "    if request.method == \"POST\":\n",
    "        url = None\n",
    "        url = request.form['url']\n",
    "      \n",
    "        if url is not None:\n",
    "            \n",
    "            try:\n",
    "                h1 = scraper(url)[0]\n",
    "                h2 = scraper(url)[1]\n",
    "                h3 = scraper(url)[2]\n",
    "                p = scraper(url)[3]\n",
    "                return render_template(\"results.html\", h1=h1, h2=h2, h3=h3, p=p)\n",
    "            \n",
    "            except Exception as e:\n",
    "                #errors = \"🐸 The anti-bug frog has caught something! Can you try again with another site? Sorry, it's still a beta version!\"\n",
    "                 errors = e   \n",
    "\n",
    "    return render_template(\"main.html\", errors=errors)\n",
    "\n",
    "app.run(use_reloader=False)"
   ]
  },
  {
   "cell_type": "code",
   "execution_count": null,
   "metadata": {},
   "outputs": [],
   "source": []
  },
  {
   "cell_type": "code",
   "execution_count": null,
   "metadata": {},
   "outputs": [],
   "source": []
  }
 ],
 "metadata": {
  "kernelspec": {
   "name": "python365jvsc74a57bd0b3ba2566441a7c06988d0923437866b63cedc61552a5af99d1f4fb67d367b25f",
   "display_name": "Python 3.6.5 64-bit ('base': conda)"
  },
  "language_info": {
   "codemirror_mode": {
    "name": "ipython",
    "version": 3
   },
   "file_extension": ".py",
   "mimetype": "text/x-python",
   "name": "python",
   "nbconvert_exporter": "python",
   "pygments_lexer": "ipython3",
   "version": "3.6.5"
  }
 },
 "nbformat": 4,
 "nbformat_minor": 2
}